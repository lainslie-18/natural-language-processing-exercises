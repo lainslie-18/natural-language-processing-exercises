{
 "cells": [
  {
   "cell_type": "code",
   "execution_count": 5,
   "id": "353983cb",
   "metadata": {},
   "outputs": [],
   "source": [
    "import pandas as pd\n",
    "import numpy as np\n",
    "import re"
   ]
  },
  {
   "cell_type": "markdown",
   "id": "f8f1ca8e",
   "metadata": {},
   "source": [
    "# Exercise 1.\n",
    "\n",
    "Write a function named is_vowel. It should accept a string as input and use a regular expression to determine if the passed string is a vowel. While not explicity mentioned in the lesson, you can treat the result of re.search as a boolean value that indicates whether or not the regular expression matches the given string"
   ]
  },
  {
   "cell_type": "code",
   "execution_count": 41,
   "id": "c1cde7c4",
   "metadata": {},
   "outputs": [],
   "source": [
    "# the function below takes in a string and evaluates whether that string is a single vowel\n",
    "def is_vowel(str):\n",
    "    return bool(re.search(r'^[aeiou]$', str))"
   ]
  },
  {
   "cell_type": "code",
   "execution_count": 40,
   "id": "8ba09cdc",
   "metadata": {},
   "outputs": [
    {
     "data": {
      "text/plain": [
       "False"
      ]
     },
     "execution_count": 40,
     "metadata": {},
     "output_type": "execute_result"
    }
   ],
   "source": [
    "is_vowel('d')"
   ]
  },
  {
   "cell_type": "markdown",
   "id": "08aa26d3",
   "metadata": {},
   "source": [
    "# Exercise 2\n",
    "\n",
    "Write a function named is_valid_username that accepts a string as input. A valid username starts with a lowercase letter, and only consists of lowercase letters, numbers, or the _ character. It should also be no longer than 32 characters. The function should return either True or False depending on whether the passed string is a valid username."
   ]
  },
  {
   "cell_type": "code",
   "execution_count": 65,
   "id": "18d066d0",
   "metadata": {},
   "outputs": [],
   "source": [
    "# the function below takes in a string and evaluates whether that string starts with a lowercase letter, contains only lowercase letters, numbers, or the _ character, and is no longer than 32 characters\n",
    "def is_valid_username(str):\n",
    "    return bool(re.search(r'^[a-z][a-z0-9_]{1,31}$', str))"
   ]
  },
  {
   "cell_type": "code",
   "execution_count": 77,
   "id": "5435acba",
   "metadata": {},
   "outputs": [
    {
     "data": {
      "text/plain": [
       "True"
      ]
     },
     "execution_count": 77,
     "metadata": {},
     "output_type": "execute_result"
    }
   ],
   "source": [
    "is_valid_username('dkfjioejr9787jdfh_djbfsj')"
   ]
  },
  {
   "cell_type": "markdown",
   "id": "2cc24dd2",
   "metadata": {},
   "source": [
    "# Exercise 3\n",
    "\n",
    "Write a regular expression to capture phone numbers. It should match all of the following:\n",
    "\n",
    "(210) 867 5309\n",
    "\n",
    "+1 210.867.5309\n",
    "\n",
    "867-5309\n",
    "\n",
    "210-867-5309"
   ]
  },
  {
   "cell_type": "code",
   "execution_count": 96,
   "id": "800994a7",
   "metadata": {},
   "outputs": [
    {
     "name": "stdout",
     "output_type": "stream",
     "text": [
      "<re.Match object; span=(0, 14), match='(210) 867 5309'>\n",
      "<re.Match object; span=(0, 15), match='+1 210.867.5309'>\n",
      "<re.Match object; span=(0, 8), match='867-5309'>\n",
      "<re.Match object; span=(0, 12), match='210-867-5309'>\n"
     ]
    }
   ],
   "source": [
    "# the search below checks for any number of any characters at the beginning (optional), followed by a set of 3 digits (optional), followed by one of any character (optional), followed by a set of 4 digits\n",
    "\n",
    "is_phone_number = r'.*?(\\d{3})?.*?(\\d{3}).?(\\d{4})'\n",
    "\n",
    "print(re.search(is_phone_number, '(210) 867 5309'))\n",
    "print(re.search(is_phone_number, '+1 210.867.5309'))\n",
    "print(re.search(is_phone_number, '867-5309'))\n",
    "print(re.search(is_phone_number, '210-867-5309'))"
   ]
  },
  {
   "cell_type": "markdown",
   "id": "578f3445",
   "metadata": {},
   "source": [
    "# Exercise 4\n",
    "\n",
    "Use regular expressions to convert the dates below to the standardized year-month-day format.\n",
    "\n",
    "02/04/19\n",
    "\n",
    "02/05/19\n",
    "\n",
    "02/06/19\n",
    "\n",
    "02/07/19\n",
    "\n",
    "02/08/19\n",
    "\n",
    "02/09/19\n",
    "\n",
    "02/10/19"
   ]
  },
  {
   "cell_type": "code",
   "execution_count": 123,
   "id": "c62cd0f8",
   "metadata": {},
   "outputs": [
    {
     "name": "stdout",
     "output_type": "stream",
     "text": [
      "19-02-04\n",
      "19-02-05\n",
      "19-02-06\n",
      "19-02-07\n",
      "19-02-08\n",
      "19-02-09\n",
      "19-02-10\n"
     ]
    }
   ],
   "source": [
    "# the code below searches for a left boundary of 1 or 2 digits as a group called 'month', the / character, 1 or 2 digits as a group called 'day', the / character, a right boundary of 2 to 4 digits as a group called 'year' and replaces the positions by their respective order in the original string\n",
    "\n",
    "dates = ['02/04/19', '02/05/19','02/06/19', '02/07/19', '02/08/19', '02/09/19', '02/10/19']\n",
    "\n",
    "for date in dates:\n",
    "    print(re.sub(r'\\b(?P<month>\\d{1,2})/(?P<day>\\d{1,2})/(?P<year>\\d{2,4})\\b',r'\\3-\\1-\\2', date))"
   ]
  },
  {
   "cell_type": "markdown",
   "id": "0d2cd91e",
   "metadata": {},
   "source": [
    "# Exercise 5\n",
    "\n",
    "Write a regex to extract the various parts of these logfile lines:\n",
    "\n",
    "`GET /api/v1/sales?page=86 [16/Apr/2019:193452+0000] HTTP/1.1 {200} 510348 \"python-requests/2.21.0\" 97.105.19.58`\n",
    "\n",
    "`POST /users_accounts/file-upload [16/Apr/2019:193452+0000] HTTP/1.1 {201} 42 \"User-Agent: Mozilla/5.0 (X11; Fedora; Fedora; Linux x86_64) AppleWebKit/537.36 (KHTML, like Gecko) Chrome/73.0.3683.86 Safari/537.36\" 97.105.19.58`\n",
    "\n",
    "`GET /api/v1/items?page=3 [16/Apr/2019:193453+0000] HTTP/1.1 {429} 3561 \"python-requests/2.21.0\" 97.105.19.58`\n"
   ]
  },
  {
   "cell_type": "code",
   "execution_count": 181,
   "id": "ab24a7c6",
   "metadata": {},
   "outputs": [
    {
     "data": {
      "text/plain": [
       "<re.Match object; span=(0, 108), match='GET /api/v1/items?page=3 [16/Apr/2019:193453+0000>"
      ]
     },
     "execution_count": 181,
     "metadata": {},
     "output_type": "execute_result"
    }
   ],
   "source": [
    "x = 'GET /api/v1/sales?page=86 [16/Apr/2019:193452+0000] HTTP/1.1 {200} 510348 \"python-requests/2.21.0\" 97.105.19.58'\n",
    "y = 'POST /users_accounts/file-upload [16/Apr/2019:193452+0000] HTTP/1.1 {201} 42 \"User-Agent: Mozilla/5.0 (X11; Fedora; Fedora; Linux x86_64) AppleWebKit/537.36 (KHTML, like Gecko) Chrome/73.0.3683.86 Safari/537.36\" 97.105.19.58'\n",
    "z = 'GET /api/v1/items?page=3 [16/Apr/2019:193453+0000] HTTP/1.1 {429} 3561 \"python-requests/2.21.0\" 97.105.19.58'\n",
    "\n",
    "extract_logfile = r'(?P<method>[A-Z]+) (?P<endpoint>/[a-z_]*/[a-z0-9_-]*(/\\S+)?) (?P<datetime>\\[\\S+\\]) (?P<protocol>[A-Z]+/[0-9.]+) (?P<status_code>\\{\\d{3}\\})(?P<bytes>\\s\\d+\\s)(?P<user_agent>\\\".*\\\") (?P<ip_address>\\d{1,3}\\.\\d{1,3}\\.\\d{1,3}\\.\\d{1,3})'\n",
    "\n",
    "re.search(extract_logfile, z)"
   ]
  },
  {
   "cell_type": "code",
   "execution_count": 184,
   "id": "a4cbc1e7",
   "metadata": {},
   "outputs": [
    {
     "data": {
      "text/plain": [
       "{'method': 'GET',\n",
       " 'endpoint': '/api/v1/items?page=3',\n",
       " 'datetime': '[16/Apr/2019:193453+0000]',\n",
       " 'protocol': 'HTTP/1.1',\n",
       " 'status_code': '{429}',\n",
       " 'bytes': ' 3561 ',\n",
       " 'user_agent': '\"python-requests/2.21.0\"',\n",
       " 'ip_address': '97.105.19.58'}"
      ]
     },
     "execution_count": 184,
     "metadata": {},
     "output_type": "execute_result"
    }
   ],
   "source": [
    "re.search(extract_logfile, z).groupdict()"
   ]
  },
  {
   "cell_type": "code",
   "execution_count": null,
   "id": "e12d5b93",
   "metadata": {},
   "outputs": [],
   "source": []
  }
 ],
 "metadata": {
  "kernelspec": {
   "display_name": "Python 3",
   "language": "python",
   "name": "python3"
  },
  "language_info": {
   "codemirror_mode": {
    "name": "ipython",
    "version": 3
   },
   "file_extension": ".py",
   "mimetype": "text/x-python",
   "name": "python",
   "nbconvert_exporter": "python",
   "pygments_lexer": "ipython3",
   "version": "3.8.8"
  }
 },
 "nbformat": 4,
 "nbformat_minor": 5
}
