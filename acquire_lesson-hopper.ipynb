{
 "cells": [
  {
   "cell_type": "markdown",
   "metadata": {},
   "source": [
    "# Data Acquisition with Web Scraping"
   ]
  },
  {
   "cell_type": "code",
   "execution_count": 1,
   "metadata": {},
   "outputs": [],
   "source": [
    "import requests\n",
    "from bs4 import BeautifulSoup\n",
    "import pandas as pd"
   ]
  },
  {
   "cell_type": "markdown",
   "metadata": {},
   "source": [
    "`$ pip install beautifulsoup4`"
   ]
  },
  {
   "cell_type": "markdown",
   "metadata": {},
   "source": [
    "## Soup Methods\n",
    "\n",
    "- `soup.select('.class')`: to get all the elements with class `class`\n",
    "- `soup.select_one('.class')`: to get the first element with class `class`\n",
    "- `soup.h2`: to get the first `h2` element\n",
    "- `soup.find_all('h2')`: to get all the elements with tag name of `h2`\n",
    "- `soup('h2')` : same as `find_all` method above\n",
    "- `soup.find('h2')`: finds the first matching element"
   ]
  },
  {
   "cell_type": "markdown",
   "metadata": {},
   "source": [
    "First make the request. The response is a bunch of html."
   ]
  },
  {
   "cell_type": "code",
   "execution_count": 2,
   "metadata": {},
   "outputs": [
    {
     "data": {
      "text/plain": [
       "'<!DOCTYPE html>\\n<html lang=\"en\">\\n<head>\\n    <meta charset=\"UTF-8\">\\n    <meta http-equiv=\"X-UA-Compatible\" content=\"IE=edge\">\\n    <meta name=\"viewport\" content=\"width=device-width, initial-scale=1.0\">\\n    <title>News Example Page</title>\\n    <link href=\"https://unpkg.com/tailwindcss@^2/dist/tailwind.min.css\" rel=\"stylesheet\" />\\n    <link rel=\"stylesheet\" href=\"https://cdn.jsdelivr.net/npm/bootstrap-icons@1.4.1/font/bootstrap-icons.css\" />\\n</head>\\n<body class=\"mx-auto max-w-screen-lg pb-32\">\\n    \\n<h1 class=\"my-5 text-4xl text-center\">News!</h1>\\n<div class=\"my-5 text-red-800 px-5 py-3 bg-red-100 font-bold\">\\n    <p>\\n        <i class=\"bi bi-exclamation-circle text-xl\"></i>\\n        All data on this page is strictly for demonstration purposes and fake.\\n    </p>\\n</div>\\n<div class=\"grid gap-y-12\">\\n    \\n    <div class=\"grid grid-cols-4 gap-x-4 border rounded pr-3 bg-green-50 hover:shadow-lg transition duration-500\">\\n        <img src=\"/static/placeholder.png\" />\\n        <div class=\"col-span-3 space-y-3 py-3\">\\n            <h2 class=\"text-2xl text-green-900\">protect receive base</h2>\\n            <div class=\"grid grid-cols-2 italic\">\\n                <p> 2010-09-06 </p>\\n                <p class=\"text-right\">By Dean Collins </p>\\n            </div>\\n            <p>Painting wrong our although skin affect. Want task eat television million.\\nExactly find experience.</p>\\n        </div>\\n    </div>\\n    \\n    <div class=\"grid grid-cols-4 gap-x-4 border rounded pr-3 bg-green-50 hover:shadow-lg transition duration-500\">\\n        <img src=\"/static/placeholder.png\" />\\n        <div class=\"col-span-3 space-y-3 py-3\">\\n            <h2 class=\"text-2xl text-green-900\">create soon year</h2>\\n            <div class=\"grid grid-cols-2 italic\">\\n                <p> 1983-03-02 </p>\\n                <p class=\"text-right\">By Diane Gibson </p>\\n            </div>\\n            <p>Or quite born debate.\\nArrive plan turn decision professor. Either network bed follow try. Spend whether machine force without. Current case ability sea left.</p>\\n        </div>\\n    </div>\\n    \\n    <div class=\"grid grid-cols-4 gap-x-4 border rounded pr-3 bg-green-50 hover:shadow-lg transition duration-500\">\\n        <img src=\"/static/placeholder.png\" />\\n        <div class=\"col-span-3 space-y-3 py-3\">\\n            <h2 class=\"text-2xl text-green-900\">protect hold reduce</h2>\\n            <div class=\"grid grid-cols-2 italic\">\\n                <p> 1999-01-04 </p>\\n                <p class=\"text-right\">By Jacob Robinson </p>\\n            </div>\\n            <p>Improve fill well easy be. Learn reason get where. However over television health.\\nAlong usually resource general training education. Interesting throw opportunity task phone staff soldier.</p>\\n        </div>\\n    </div>\\n    \\n    <div class=\"grid grid-cols-4 gap-x-4 border rounded pr-3 bg-green-50 hover:shadow-lg transition duration-500\">\\n        <img src=\"/static/placeholder.png\" />\\n        <div class=\"col-span-3 space-y-3 py-3\">\\n            <h2 class=\"text-2xl text-green-900\">try up development</h2>\\n            <div class=\"grid grid-cols-2 italic\">\\n                <p> 2017-06-03 </p>\\n                <p class=\"text-right\">By Cody Stevenson </p>\\n            </div>\\n            <p>Then religious simple difficult reach address. Cause stuff really provide prepare. Page memory use movie situation.\\nAvailable too alone city beyond husband. Bill remember question traditional value.</p>\\n        </div>\\n    </div>\\n    \\n    <div class=\"grid grid-cols-4 gap-x-4 border rounded pr-3 bg-green-50 hover:shadow-lg transition duration-500\">\\n        <img src=\"/static/placeholder.png\" />\\n        <div class=\"col-span-3 space-y-3 py-3\">\\n            <h2 class=\"text-2xl text-green-900\">decision body possible</h2>\\n            <div class=\"grid grid-cols-2 italic\">\\n                <p> 1977-12-11 </p>\\n                <p class=\"text-right\">By Jack Bowers </p>\\n            </div>\\n            <p>Police crime coach sometimes ability standard report. To design west cut race sort enter.\\nHerself respond hear. Owner final that blue series no. Visit so government society pretty hand authority.</p>\\n        </div>\\n    </div>\\n    \\n    <div class=\"grid grid-cols-4 gap-x-4 border rounded pr-3 bg-green-50 hover:shadow-lg transition duration-500\">\\n        <img src=\"/static/placeholder.png\" />\\n        <div class=\"col-span-3 space-y-3 py-3\">\\n            <h2 class=\"text-2xl text-green-900\">blood under fear</h2>\\n            <div class=\"grid grid-cols-2 italic\">\\n                <p> 1992-11-23 </p>\\n                <p class=\"text-right\">By Sharon Baldwin </p>\\n            </div>\\n            <p>Place move attack college keep American. Increase unit something happen final admit.\\nSon sister summer participant share heart. Team result show some without without.</p>\\n        </div>\\n    </div>\\n    \\n    <div class=\"grid grid-cols-4 gap-x-4 border rounded pr-3 bg-green-50 hover:shadow-lg transition duration-500\">\\n        <img src=\"/static/placeholder.png\" />\\n        <div class=\"col-span-3 space-y-3 py-3\">\\n            <h2 class=\"text-2xl text-green-900\">likely he throughout</h2>\\n            <div class=\"grid grid-cols-2 italic\">\\n                <p> 2005-07-19 </p>\\n                <p class=\"text-right\">By Todd Mitchell </p>\\n            </div>\\n            <p>Music blue point low. Main tough put campaign often out sign. Road everyone fly money.\\nSouth smile ability model project win thing. Body better very only.</p>\\n        </div>\\n    </div>\\n    \\n    <div class=\"grid grid-cols-4 gap-x-4 border rounded pr-3 bg-green-50 hover:shadow-lg transition duration-500\">\\n        <img src=\"/static/placeholder.png\" />\\n        <div class=\"col-span-3 space-y-3 py-3\">\\n            <h2 class=\"text-2xl text-green-900\">see should strategy</h2>\\n            <div class=\"grid grid-cols-2 italic\">\\n                <p> 1970-07-22 </p>\\n                <p class=\"text-right\">By Jessica Huffman </p>\\n            </div>\\n            <p>Agreement check hundred perform. Cultural also his best indicate.\\nHuge while continue news trip return night decide. President perhaps compare team down drop simply report.</p>\\n        </div>\\n    </div>\\n    \\n    <div class=\"grid grid-cols-4 gap-x-4 border rounded pr-3 bg-green-50 hover:shadow-lg transition duration-500\">\\n        <img src=\"/static/placeholder.png\" />\\n        <div class=\"col-span-3 space-y-3 py-3\">\\n            <h2 class=\"text-2xl text-green-900\">explain soon talk</h2>\\n            <div class=\"grid grid-cols-2 italic\">\\n                <p> 2004-08-26 </p>\\n                <p class=\"text-right\">By Jessica Davis </p>\\n            </div>\\n            <p>Suddenly tend commercial process. Poor against reflect market benefit fact. Evening wife should arm shoulder.\\nMarket since up story few. Environmental suddenly recognize right audience.</p>\\n        </div>\\n    </div>\\n    \\n    <div class=\"grid grid-cols-4 gap-x-4 border rounded pr-3 bg-green-50 hover:shadow-lg transition duration-500\">\\n        <img src=\"/static/placeholder.png\" />\\n        <div class=\"col-span-3 space-y-3 py-3\">\\n            <h2 class=\"text-2xl text-green-900\">finish role last</h2>\\n            <div class=\"grid grid-cols-2 italic\">\\n                <p> 1985-03-09 </p>\\n                <p class=\"text-right\">By Christine Morales </p>\\n            </div>\\n            <p>Heavy into car turn why meeting agent. Involve look none.\\nRespond any last too. Themselves similar image expert serious until stay. Big above education president majority share.</p>\\n        </div>\\n    </div>\\n    \\n    <div class=\"grid grid-cols-4 gap-x-4 border rounded pr-3 bg-green-50 hover:shadow-lg transition duration-500\">\\n        <img src=\"/static/placeholder.png\" />\\n        <div class=\"col-span-3 space-y-3 py-3\">\\n            <h2 class=\"text-2xl text-green-900\">blood stop serve</h2>\\n            <div class=\"grid grid-cols-2 italic\">\\n                <p> 2016-04-15 </p>\\n                <p class=\"text-right\">By Brandon Lewis </p>\\n            </div>\\n            <p>Line pay sell environment lawyer necessary help result. Person citizen try per seat lot. Range begin past loss onto day. Vote season skin modern.\\nCoach tend quality become bed economy fact. Too risk sit degree.</p>\\n        </div>\\n    </div>\\n    \\n    <div class=\"grid grid-cols-4 gap-x-4 border rounded pr-3 bg-green-50 hover:shadow-lg transition duration-500\">\\n        <img src=\"/static/placeholder.png\" />\\n        <div class=\"col-span-3 space-y-3 py-3\">\\n            <h2 class=\"text-2xl text-green-900\">production recently experience</h2>\\n            <div class=\"grid grid-cols-2 italic\">\\n                <p> 1983-09-21 </p>\\n                <p class=\"text-right\">By Amy Rodriguez </p>\\n            </div>\\n            <p>Part turn as peace just. High sit nothing thought girl. Bank different wear position himself weight candidate stage.\\nRoom new too public anything. Investment wind experience eye.</p>\\n        </div>\\n    </div>\\n    \\n</div>\\n\\n</body>\\n</html>'"
      ]
     },
     "execution_count": 2,
     "metadata": {},
     "output_type": "execute_result"
    }
   ],
   "source": [
    "response = requests.get('https://web-scraping-demo.zgulde.net/news')\n",
    "html = response.text\n",
    "html"
   ]
  },
  {
   "cell_type": "markdown",
   "metadata": {},
   "source": [
    "We can make more sense of that html with the beautiful soup library."
   ]
  },
  {
   "cell_type": "code",
   "execution_count": 9,
   "metadata": {},
   "outputs": [
    {
     "name": "stdout",
     "output_type": "stream",
     "text": [
      "<!DOCTYPE html>\n",
      "<html lang=\"en\">\n",
      " <head>\n",
      "  <meta charset=\"utf-8\"/>\n",
      "  <meta content=\"IE=edge\" http-equiv=\"X-UA-Compatible\"/>\n",
      "  <meta content=\"width=device-width, initial-scale=1.0\" name=\"viewport\"/>\n",
      "  <title>\n",
      "   News Example Page\n",
      "  </title>\n",
      "  <link href=\"https://unpkg.com/tailwindcss@^2/dist/tailwind.min.css\" rel=\"stylesheet\"/>\n",
      "  <link href=\"https://cdn.jsdelivr.net/npm/bootstrap-icons@1.4.1/font/bootstrap-icons.css\" rel=\"stylesheet\"/>\n",
      " </head>\n",
      " <body class=\"mx-auto max-w-screen-lg pb-32\">\n",
      "  <h1 class=\"my-5 text-4xl text-center\">\n",
      "   News!\n",
      "  </h1>\n",
      "  <div class=\"my-5 text-red-800 px-5 py-3 bg-red-100 font-bold\">\n",
      "   <p>\n",
      "    <i class=\"bi bi-exclamation-circle text-xl\">\n",
      "    </i>\n",
      "    All data on this page is strictly for demonstration purposes and fake.\n",
      "   </p>\n",
      "  </div>\n",
      "  <div class=\"grid gap-y-12\">\n",
      "   <div class=\"grid grid-cols-4 gap-x-4 border rounded pr-3 bg-green-50 hover:shadow-lg transition duration-500\">\n",
      "    <img src=\"/static/placeholder.png\"/>\n",
      "    <div class=\"col-span-3 space-y-3 py-3\">\n",
      "     <h2 class=\"text-2xl text-green-900\">\n",
      "      protect receive base\n",
      "     </h2>\n",
      "     <div class=\"grid grid-cols-2 italic\">\n",
      "      <p>\n",
      "       2010-09-06\n",
      "      </p>\n",
      "      <p class=\"text-right\">\n",
      "       By Dean Collins\n",
      "      </p>\n",
      "     </div>\n",
      "     <p>\n",
      "      Painting wrong our although skin affect. Want task eat television million.\n",
      "Exactly find experience.\n",
      "     </p>\n",
      "    </div>\n",
      "   </div>\n",
      "   <div class=\"grid grid-cols-4 gap-x-4 border rounded pr-3 bg-green-50 hover:shadow-lg transition duration-500\">\n",
      "    <img src=\"/static/placeholder.png\"/>\n",
      "    <div class=\"col-span-3 space-y-3 py-3\">\n",
      "     <h2 class=\"text-2xl text-green-900\">\n",
      "      create soon year\n",
      "     </h2>\n",
      "     <div class=\"grid grid-cols-2 italic\">\n",
      "      <p>\n",
      "       1983-03-02\n",
      "      </p>\n",
      "      <p class=\"text-right\">\n",
      "       By Diane Gibson\n",
      "      </p>\n",
      "     </div>\n",
      "     <p>\n",
      "      Or quite born debate.\n",
      "Arrive plan turn decision professor. Either network bed follow try. Spend whether machine force without. Current case ability sea left.\n",
      "     </p>\n",
      "    </div>\n",
      "   </div>\n",
      "   <div class=\"grid grid-cols-4 gap-x-4 border rounded pr-3 bg-green-50 hover:shadow-lg transition duration-500\">\n",
      "    <img src=\"/static/placeholder.png\"/>\n",
      "    <div class=\"col-span-3 space-y-3 py-3\">\n",
      "     <h2 class=\"text-2xl text-green-900\">\n",
      "      protect hold reduce\n",
      "     </h2>\n",
      "     <div class=\"grid grid-cols-2 italic\">\n",
      "      <p>\n",
      "       1999-01-04\n",
      "      </p>\n",
      "      <p class=\"text-right\">\n",
      "       By Jacob Robinson\n",
      "      </p>\n",
      "     </div>\n",
      "     <p>\n",
      "      Improve fill well easy be. Learn reason get where. However over television health.\n",
      "Along usually resource general training education. Interesting throw opportunity task phone staff soldier.\n",
      "     </p>\n",
      "    </div>\n",
      "   </div>\n",
      "   <div class=\"grid grid-cols-4 gap-x-4 border rounded pr-3 bg-green-50 hover:shadow-lg transition duration-500\">\n",
      "    <img src=\"/static/placeholder.png\"/>\n",
      "    <div class=\"col-span-3 space-y-3 py-3\">\n",
      "     <h2 class=\"text-2xl text-green-900\">\n",
      "      try up development\n",
      "     </h2>\n",
      "     <div class=\"grid grid-cols-2 italic\">\n",
      "      <p>\n",
      "       2017-06-03\n",
      "      </p>\n",
      "      <p class=\"text-right\">\n",
      "       By Cody Stevenson\n",
      "      </p>\n",
      "     </div>\n",
      "     <p>\n",
      "      Then religious simple difficult reach address. Cause stuff really provide prepare. Page memory use movie situation.\n",
      "Available too alone city beyond husband. Bill remember question traditional value.\n",
      "     </p>\n",
      "    </div>\n",
      "   </div>\n",
      "   <div class=\"grid grid-cols-4 gap-x-4 border rounded pr-3 bg-green-50 hover:shadow-lg transition duration-500\">\n",
      "    <img src=\"/static/placeholder.png\"/>\n",
      "    <div class=\"col-span-3 space-y-3 py-3\">\n",
      "     <h2 class=\"text-2xl text-green-900\">\n",
      "      decision body possible\n",
      "     </h2>\n",
      "     <div class=\"grid grid-cols-2 italic\">\n",
      "      <p>\n",
      "       1977-12-11\n",
      "      </p>\n",
      "      <p class=\"text-right\">\n",
      "       By Jack Bowers\n",
      "      </p>\n",
      "     </div>\n",
      "     <p>\n",
      "      Police crime coach sometimes ability standard report. To design west cut race sort enter.\n",
      "Herself respond hear. Owner final that blue series no. Visit so government society pretty hand authority.\n",
      "     </p>\n",
      "    </div>\n",
      "   </div>\n",
      "   <div class=\"grid grid-cols-4 gap-x-4 border rounded pr-3 bg-green-50 hover:shadow-lg transition duration-500\">\n",
      "    <img src=\"/static/placeholder.png\"/>\n",
      "    <div class=\"col-span-3 space-y-3 py-3\">\n",
      "     <h2 class=\"text-2xl text-green-900\">\n",
      "      blood under fear\n",
      "     </h2>\n",
      "     <div class=\"grid grid-cols-2 italic\">\n",
      "      <p>\n",
      "       1992-11-23\n",
      "      </p>\n",
      "      <p class=\"text-right\">\n",
      "       By Sharon Baldwin\n",
      "      </p>\n",
      "     </div>\n",
      "     <p>\n",
      "      Place move attack college keep American. Increase unit something happen final admit.\n",
      "Son sister summer participant share heart. Team result show some without without.\n",
      "     </p>\n",
      "    </div>\n",
      "   </div>\n",
      "   <div class=\"grid grid-cols-4 gap-x-4 border rounded pr-3 bg-green-50 hover:shadow-lg transition duration-500\">\n",
      "    <img src=\"/static/placeholder.png\"/>\n",
      "    <div class=\"col-span-3 space-y-3 py-3\">\n",
      "     <h2 class=\"text-2xl text-green-900\">\n",
      "      likely he throughout\n",
      "     </h2>\n",
      "     <div class=\"grid grid-cols-2 italic\">\n",
      "      <p>\n",
      "       2005-07-19\n",
      "      </p>\n",
      "      <p class=\"text-right\">\n",
      "       By Todd Mitchell\n",
      "      </p>\n",
      "     </div>\n",
      "     <p>\n",
      "      Music blue point low. Main tough put campaign often out sign. Road everyone fly money.\n",
      "South smile ability model project win thing. Body better very only.\n",
      "     </p>\n",
      "    </div>\n",
      "   </div>\n",
      "   <div class=\"grid grid-cols-4 gap-x-4 border rounded pr-3 bg-green-50 hover:shadow-lg transition duration-500\">\n",
      "    <img src=\"/static/placeholder.png\"/>\n",
      "    <div class=\"col-span-3 space-y-3 py-3\">\n",
      "     <h2 class=\"text-2xl text-green-900\">\n",
      "      see should strategy\n",
      "     </h2>\n",
      "     <div class=\"grid grid-cols-2 italic\">\n",
      "      <p>\n",
      "       1970-07-22\n",
      "      </p>\n",
      "      <p class=\"text-right\">\n",
      "       By Jessica Huffman\n",
      "      </p>\n",
      "     </div>\n",
      "     <p>\n",
      "      Agreement check hundred perform. Cultural also his best indicate.\n",
      "Huge while continue news trip return night decide. President perhaps compare team down drop simply report.\n",
      "     </p>\n",
      "    </div>\n",
      "   </div>\n",
      "   <div class=\"grid grid-cols-4 gap-x-4 border rounded pr-3 bg-green-50 hover:shadow-lg transition duration-500\">\n",
      "    <img src=\"/static/placeholder.png\"/>\n",
      "    <div class=\"col-span-3 space-y-3 py-3\">\n",
      "     <h2 class=\"text-2xl text-green-900\">\n",
      "      explain soon talk\n",
      "     </h2>\n",
      "     <div class=\"grid grid-cols-2 italic\">\n",
      "      <p>\n",
      "       2004-08-26\n",
      "      </p>\n",
      "      <p class=\"text-right\">\n",
      "       By Jessica Davis\n",
      "      </p>\n",
      "     </div>\n",
      "     <p>\n",
      "      Suddenly tend commercial process. Poor against reflect market benefit fact. Evening wife should arm shoulder.\n",
      "Market since up story few. Environmental suddenly recognize right audience.\n",
      "     </p>\n",
      "    </div>\n",
      "   </div>\n",
      "   <div class=\"grid grid-cols-4 gap-x-4 border rounded pr-3 bg-green-50 hover:shadow-lg transition duration-500\">\n",
      "    <img src=\"/static/placeholder.png\"/>\n",
      "    <div class=\"col-span-3 space-y-3 py-3\">\n",
      "     <h2 class=\"text-2xl text-green-900\">\n",
      "      finish role last\n",
      "     </h2>\n",
      "     <div class=\"grid grid-cols-2 italic\">\n",
      "      <p>\n",
      "       1985-03-09\n",
      "      </p>\n",
      "      <p class=\"text-right\">\n",
      "       By Christine Morales\n",
      "      </p>\n",
      "     </div>\n",
      "     <p>\n",
      "      Heavy into car turn why meeting agent. Involve look none.\n",
      "Respond any last too. Themselves similar image expert serious until stay. Big above education president majority share.\n",
      "     </p>\n",
      "    </div>\n",
      "   </div>\n",
      "   <div class=\"grid grid-cols-4 gap-x-4 border rounded pr-3 bg-green-50 hover:shadow-lg transition duration-500\">\n",
      "    <img src=\"/static/placeholder.png\"/>\n",
      "    <div class=\"col-span-3 space-y-3 py-3\">\n",
      "     <h2 class=\"text-2xl text-green-900\">\n",
      "      blood stop serve\n",
      "     </h2>\n",
      "     <div class=\"grid grid-cols-2 italic\">\n",
      "      <p>\n",
      "       2016-04-15\n",
      "      </p>\n",
      "      <p class=\"text-right\">\n",
      "       By Brandon Lewis\n",
      "      </p>\n",
      "     </div>\n",
      "     <p>\n",
      "      Line pay sell environment lawyer necessary help result. Person citizen try per seat lot. Range begin past loss onto day. Vote season skin modern.\n",
      "Coach tend quality become bed economy fact. Too risk sit degree.\n",
      "     </p>\n",
      "    </div>\n",
      "   </div>\n",
      "   <div class=\"grid grid-cols-4 gap-x-4 border rounded pr-3 bg-green-50 hover:shadow-lg transition duration-500\">\n",
      "    <img src=\"/static/placeholder.png\"/>\n",
      "    <div class=\"col-span-3 space-y-3 py-3\">\n",
      "     <h2 class=\"text-2xl text-green-900\">\n",
      "      production recently experience\n",
      "     </h2>\n",
      "     <div class=\"grid grid-cols-2 italic\">\n",
      "      <p>\n",
      "       1983-09-21\n",
      "      </p>\n",
      "      <p class=\"text-right\">\n",
      "       By Amy Rodriguez\n",
      "      </p>\n",
      "     </div>\n",
      "     <p>\n",
      "      Part turn as peace just. High sit nothing thought girl. Bank different wear position himself weight candidate stage.\n",
      "Room new too public anything. Investment wind experience eye.\n",
      "     </p>\n",
      "    </div>\n",
      "   </div>\n",
      "  </div>\n",
      " </body>\n",
      "</html>\n"
     ]
    }
   ],
   "source": [
    "soup = BeautifulSoup(html)\n",
    "print(soup.prettify())"
   ]
  },
  {
   "cell_type": "markdown",
   "metadata": {},
   "source": [
    "From here we can switch between the browser and python and try out different ways of getting different parts of the html document.\n",
    "\n",
    "We can leverage Google Chrome's developer tools by right clicking and choosing \"Inspect\". We can then use this html document inspector to help us with our web scraping."
   ]
  },
  {
   "cell_type": "code",
   "execution_count": 4,
   "metadata": {},
   "outputs": [],
   "source": [
    "# Use beautifulsoup methods to extract necessary content from an article"
   ]
  },
  {
   "cell_type": "code",
   "execution_count": 20,
   "metadata": {},
   "outputs": [
    {
     "data": {
      "text/plain": [
       "[<div class=\"grid grid-cols-4 gap-x-4 border rounded pr-3 bg-green-50 hover:shadow-lg transition duration-500\">\n",
       " <img src=\"/static/placeholder.png\"/>\n",
       " <div class=\"col-span-3 space-y-3 py-3\">\n",
       " <h2 class=\"text-2xl text-green-900\">protect receive base</h2>\n",
       " <div class=\"grid grid-cols-2 italic\">\n",
       " <p> 2010-09-06 </p>\n",
       " <p class=\"text-right\">By Dean Collins </p>\n",
       " </div>\n",
       " <p>Painting wrong our although skin affect. Want task eat television million.\n",
       " Exactly find experience.</p>\n",
       " </div>\n",
       " </div>,\n",
       " <div class=\"grid grid-cols-4 gap-x-4 border rounded pr-3 bg-green-50 hover:shadow-lg transition duration-500\">\n",
       " <img src=\"/static/placeholder.png\"/>\n",
       " <div class=\"col-span-3 space-y-3 py-3\">\n",
       " <h2 class=\"text-2xl text-green-900\">create soon year</h2>\n",
       " <div class=\"grid grid-cols-2 italic\">\n",
       " <p> 1983-03-02 </p>\n",
       " <p class=\"text-right\">By Diane Gibson </p>\n",
       " </div>\n",
       " <p>Or quite born debate.\n",
       " Arrive plan turn decision professor. Either network bed follow try. Spend whether machine force without. Current case ability sea left.</p>\n",
       " </div>\n",
       " </div>,\n",
       " <div class=\"grid grid-cols-4 gap-x-4 border rounded pr-3 bg-green-50 hover:shadow-lg transition duration-500\">\n",
       " <img src=\"/static/placeholder.png\"/>\n",
       " <div class=\"col-span-3 space-y-3 py-3\">\n",
       " <h2 class=\"text-2xl text-green-900\">protect hold reduce</h2>\n",
       " <div class=\"grid grid-cols-2 italic\">\n",
       " <p> 1999-01-04 </p>\n",
       " <p class=\"text-right\">By Jacob Robinson </p>\n",
       " </div>\n",
       " <p>Improve fill well easy be. Learn reason get where. However over television health.\n",
       " Along usually resource general training education. Interesting throw opportunity task phone staff soldier.</p>\n",
       " </div>\n",
       " </div>,\n",
       " <div class=\"grid grid-cols-4 gap-x-4 border rounded pr-3 bg-green-50 hover:shadow-lg transition duration-500\">\n",
       " <img src=\"/static/placeholder.png\"/>\n",
       " <div class=\"col-span-3 space-y-3 py-3\">\n",
       " <h2 class=\"text-2xl text-green-900\">try up development</h2>\n",
       " <div class=\"grid grid-cols-2 italic\">\n",
       " <p> 2017-06-03 </p>\n",
       " <p class=\"text-right\">By Cody Stevenson </p>\n",
       " </div>\n",
       " <p>Then religious simple difficult reach address. Cause stuff really provide prepare. Page memory use movie situation.\n",
       " Available too alone city beyond husband. Bill remember question traditional value.</p>\n",
       " </div>\n",
       " </div>,\n",
       " <div class=\"grid grid-cols-4 gap-x-4 border rounded pr-3 bg-green-50 hover:shadow-lg transition duration-500\">\n",
       " <img src=\"/static/placeholder.png\"/>\n",
       " <div class=\"col-span-3 space-y-3 py-3\">\n",
       " <h2 class=\"text-2xl text-green-900\">decision body possible</h2>\n",
       " <div class=\"grid grid-cols-2 italic\">\n",
       " <p> 1977-12-11 </p>\n",
       " <p class=\"text-right\">By Jack Bowers </p>\n",
       " </div>\n",
       " <p>Police crime coach sometimes ability standard report. To design west cut race sort enter.\n",
       " Herself respond hear. Owner final that blue series no. Visit so government society pretty hand authority.</p>\n",
       " </div>\n",
       " </div>,\n",
       " <div class=\"grid grid-cols-4 gap-x-4 border rounded pr-3 bg-green-50 hover:shadow-lg transition duration-500\">\n",
       " <img src=\"/static/placeholder.png\"/>\n",
       " <div class=\"col-span-3 space-y-3 py-3\">\n",
       " <h2 class=\"text-2xl text-green-900\">blood under fear</h2>\n",
       " <div class=\"grid grid-cols-2 italic\">\n",
       " <p> 1992-11-23 </p>\n",
       " <p class=\"text-right\">By Sharon Baldwin </p>\n",
       " </div>\n",
       " <p>Place move attack college keep American. Increase unit something happen final admit.\n",
       " Son sister summer participant share heart. Team result show some without without.</p>\n",
       " </div>\n",
       " </div>,\n",
       " <div class=\"grid grid-cols-4 gap-x-4 border rounded pr-3 bg-green-50 hover:shadow-lg transition duration-500\">\n",
       " <img src=\"/static/placeholder.png\"/>\n",
       " <div class=\"col-span-3 space-y-3 py-3\">\n",
       " <h2 class=\"text-2xl text-green-900\">likely he throughout</h2>\n",
       " <div class=\"grid grid-cols-2 italic\">\n",
       " <p> 2005-07-19 </p>\n",
       " <p class=\"text-right\">By Todd Mitchell </p>\n",
       " </div>\n",
       " <p>Music blue point low. Main tough put campaign often out sign. Road everyone fly money.\n",
       " South smile ability model project win thing. Body better very only.</p>\n",
       " </div>\n",
       " </div>,\n",
       " <div class=\"grid grid-cols-4 gap-x-4 border rounded pr-3 bg-green-50 hover:shadow-lg transition duration-500\">\n",
       " <img src=\"/static/placeholder.png\"/>\n",
       " <div class=\"col-span-3 space-y-3 py-3\">\n",
       " <h2 class=\"text-2xl text-green-900\">see should strategy</h2>\n",
       " <div class=\"grid grid-cols-2 italic\">\n",
       " <p> 1970-07-22 </p>\n",
       " <p class=\"text-right\">By Jessica Huffman </p>\n",
       " </div>\n",
       " <p>Agreement check hundred perform. Cultural also his best indicate.\n",
       " Huge while continue news trip return night decide. President perhaps compare team down drop simply report.</p>\n",
       " </div>\n",
       " </div>,\n",
       " <div class=\"grid grid-cols-4 gap-x-4 border rounded pr-3 bg-green-50 hover:shadow-lg transition duration-500\">\n",
       " <img src=\"/static/placeholder.png\"/>\n",
       " <div class=\"col-span-3 space-y-3 py-3\">\n",
       " <h2 class=\"text-2xl text-green-900\">explain soon talk</h2>\n",
       " <div class=\"grid grid-cols-2 italic\">\n",
       " <p> 2004-08-26 </p>\n",
       " <p class=\"text-right\">By Jessica Davis </p>\n",
       " </div>\n",
       " <p>Suddenly tend commercial process. Poor against reflect market benefit fact. Evening wife should arm shoulder.\n",
       " Market since up story few. Environmental suddenly recognize right audience.</p>\n",
       " </div>\n",
       " </div>,\n",
       " <div class=\"grid grid-cols-4 gap-x-4 border rounded pr-3 bg-green-50 hover:shadow-lg transition duration-500\">\n",
       " <img src=\"/static/placeholder.png\"/>\n",
       " <div class=\"col-span-3 space-y-3 py-3\">\n",
       " <h2 class=\"text-2xl text-green-900\">finish role last</h2>\n",
       " <div class=\"grid grid-cols-2 italic\">\n",
       " <p> 1985-03-09 </p>\n",
       " <p class=\"text-right\">By Christine Morales </p>\n",
       " </div>\n",
       " <p>Heavy into car turn why meeting agent. Involve look none.\n",
       " Respond any last too. Themselves similar image expert serious until stay. Big above education president majority share.</p>\n",
       " </div>\n",
       " </div>,\n",
       " <div class=\"grid grid-cols-4 gap-x-4 border rounded pr-3 bg-green-50 hover:shadow-lg transition duration-500\">\n",
       " <img src=\"/static/placeholder.png\"/>\n",
       " <div class=\"col-span-3 space-y-3 py-3\">\n",
       " <h2 class=\"text-2xl text-green-900\">blood stop serve</h2>\n",
       " <div class=\"grid grid-cols-2 italic\">\n",
       " <p> 2016-04-15 </p>\n",
       " <p class=\"text-right\">By Brandon Lewis </p>\n",
       " </div>\n",
       " <p>Line pay sell environment lawyer necessary help result. Person citizen try per seat lot. Range begin past loss onto day. Vote season skin modern.\n",
       " Coach tend quality become bed economy fact. Too risk sit degree.</p>\n",
       " </div>\n",
       " </div>,\n",
       " <div class=\"grid grid-cols-4 gap-x-4 border rounded pr-3 bg-green-50 hover:shadow-lg transition duration-500\">\n",
       " <img src=\"/static/placeholder.png\"/>\n",
       " <div class=\"col-span-3 space-y-3 py-3\">\n",
       " <h2 class=\"text-2xl text-green-900\">production recently experience</h2>\n",
       " <div class=\"grid grid-cols-2 italic\">\n",
       " <p> 1983-09-21 </p>\n",
       " <p class=\"text-right\">By Amy Rodriguez </p>\n",
       " </div>\n",
       " <p>Part turn as peace just. High sit nothing thought girl. Bank different wear position himself weight candidate stage.\n",
       " Room new too public anything. Investment wind experience eye.</p>\n",
       " </div>\n",
       " </div>]"
      ]
     },
     "execution_count": 20,
     "metadata": {},
     "output_type": "execute_result"
    }
   ],
   "source": [
    "articles = soup.select('.grid-cols-4')\n",
    "articles"
   ]
  },
  {
   "cell_type": "code",
   "execution_count": 75,
   "metadata": {},
   "outputs": [
    {
     "data": {
      "text/plain": [
       "<div class=\"grid grid-cols-4 gap-x-4 border rounded pr-3 bg-green-50 hover:shadow-lg transition duration-500\">\n",
       "<img src=\"/static/placeholder.png\"/>\n",
       "<div class=\"col-span-3 space-y-3 py-3\">\n",
       "<h2 class=\"text-2xl text-green-900\">protect receive base</h2>\n",
       "<div class=\"grid grid-cols-2 italic\">\n",
       "<p> 2010-09-06 </p>\n",
       "<p class=\"text-right\">By Dean Collins </p>\n",
       "</div>\n",
       "<p>Painting wrong our although skin affect. Want task eat television million.\n",
       "Exactly find experience.</p>\n",
       "</div>\n",
       "</div>"
      ]
     },
     "execution_count": 75,
     "metadata": {},
     "output_type": "execute_result"
    }
   ],
   "source": [
    "article = articles[0]\n",
    "article"
   ]
  },
  {
   "cell_type": "markdown",
   "metadata": {},
   "source": [
    "Bringing it all together: Make a function"
   ]
  },
  {
   "cell_type": "code",
   "execution_count": 38,
   "metadata": {},
   "outputs": [
    {
     "data": {
      "text/plain": [
       "'protect receive base'"
      ]
     },
     "execution_count": 38,
     "metadata": {},
     "output_type": "execute_result"
    }
   ],
   "source": [
    "headline = article.h2.text\n",
    "headline"
   ]
  },
  {
   "cell_type": "code",
   "execution_count": 39,
   "metadata": {},
   "outputs": [
    {
     "data": {
      "text/plain": [
       "'2010-09-06'"
      ]
     },
     "execution_count": 39,
     "metadata": {},
     "output_type": "execute_result"
    }
   ],
   "source": [
    "date = article.p.text.strip()\n",
    "date"
   ]
  },
  {
   "cell_type": "code",
   "execution_count": 43,
   "metadata": {},
   "outputs": [
    {
     "data": {
      "text/plain": [
       "'Dean Collins'"
      ]
     },
     "execution_count": 43,
     "metadata": {},
     "output_type": "execute_result"
    }
   ],
   "source": [
    "author = article.select('.text-right')[0].text.strip()[3:]\n",
    "author"
   ]
  },
  {
   "cell_type": "code",
   "execution_count": 76,
   "metadata": {},
   "outputs": [
    {
     "data": {
      "text/plain": [
       "<p class=\"text-right\">By Dean Collins </p>"
      ]
     },
     "execution_count": 76,
     "metadata": {},
     "output_type": "execute_result"
    }
   ],
   "source": [
    "article.select('p')[1]"
   ]
  },
  {
   "cell_type": "code",
   "execution_count": 77,
   "metadata": {},
   "outputs": [
    {
     "data": {
      "text/plain": [
       "'Painting wrong our although skin affect. Want task eat television million.\\nExactly find experience.'"
      ]
     },
     "execution_count": 77,
     "metadata": {},
     "output_type": "execute_result"
    }
   ],
   "source": [
    "content = article.select('p')[-1].text\n",
    "content"
   ]
  },
  {
   "cell_type": "code",
   "execution_count": null,
   "metadata": {},
   "outputs": [],
   "source": [
    "def parse_news(article):\n",
    "    headline = article.h2.text\n",
    "    date = article.p.text.strip()\n",
    "    author = article.select('.text-right')[0].text.strip()[3:]\n",
    "    content = article.select('p')[-1].text\n",
    "    \n",
    "    return {\n",
    "        'headline': headline, 'date': date, 'author': author,\n",
    "        'content': content\n",
    "    }"
   ]
  },
  {
   "cell_type": "code",
   "execution_count": null,
   "metadata": {},
   "outputs": [],
   "source": [
    "parse_news(articles[0])"
   ]
  },
  {
   "cell_type": "code",
   "execution_count": null,
   "metadata": {},
   "outputs": [],
   "source": [
    "# loop through all the articles\n",
    "pd.DataFrame([parse_news(article) for article in articles])"
   ]
  },
  {
   "cell_type": "markdown",
   "metadata": {},
   "source": [
    "## Scraping People"
   ]
  },
  {
   "cell_type": "code",
   "execution_count": 26,
   "metadata": {},
   "outputs": [],
   "source": [
    "response = requests.get('https://web-scraping-demo.zgulde.net/people', headers={'user-agent': 'Codeup DS Hoppper'})\n",
    "soup = BeautifulSoup(response.text)"
   ]
  },
  {
   "cell_type": "code",
   "execution_count": 27,
   "metadata": {},
   "outputs": [
    {
     "data": {
      "text/plain": [
       "[<div class=\"person border rounded px-3 py-5 grid grid-cols-2 gap-x-3 bg-purple-50 hover:shadow-lg transition duration-500\">\n",
       " <h2 class=\"text-2xl text-purple-800 name col-span-full border-b\">Jason Gomez</h2>\n",
       " <p class=\"quote col-span-full px-5 py-5 text-center text-gray-500\">\n",
       "             \"Versatile contextually-based framework\"\n",
       "         </p>\n",
       " <div class=\"grid grid-cols-9\">\n",
       " <i class=\"bi bi-envelope-fill text-purple-800\"></i>\n",
       " <p class=\"email col-span-8\">derek94@yahoo.com</p>\n",
       " <i class=\"bi bi-telephone-fill text-purple-800\"></i>\n",
       " <p class=\"phone col-span-8\">+1-032-098-0412x8960</p>\n",
       " </div>\n",
       " <div class=\"address grid grid-cols-9\">\n",
       " <i class=\"bi bi-geo-fill text-purple-800\"></i>\n",
       " <p class=\"col-span-8\">\n",
       "                 293 Martin Rapid Suite 236 <br/>\n",
       "                 North Sarahchester, AR 26950\n",
       "             </p>\n",
       " </div>\n",
       " </div>,\n",
       " <div class=\"person border rounded px-3 py-5 grid grid-cols-2 gap-x-3 bg-purple-50 hover:shadow-lg transition duration-500\">\n",
       " <h2 class=\"text-2xl text-purple-800 name col-span-full border-b\">Cathy Choi</h2>\n",
       " <p class=\"quote col-span-full px-5 py-5 text-center text-gray-500\">\n",
       "             \"Customizable uniform application\"\n",
       "         </p>\n",
       " <div class=\"grid grid-cols-9\">\n",
       " <i class=\"bi bi-envelope-fill text-purple-800\"></i>\n",
       " <p class=\"email col-span-8\">amandamartin@hall.com</p>\n",
       " <i class=\"bi bi-telephone-fill text-purple-800\"></i>\n",
       " <p class=\"phone col-span-8\">+1-042-632-0547x9986</p>\n",
       " </div>\n",
       " <div class=\"address grid grid-cols-9\">\n",
       " <i class=\"bi bi-geo-fill text-purple-800\"></i>\n",
       " <p class=\"col-span-8\">\n",
       "                 4216 Thomas Grove Apt. 340 <br/>\n",
       "                 Paulahaven, ND 26102\n",
       "             </p>\n",
       " </div>\n",
       " </div>,\n",
       " <div class=\"person border rounded px-3 py-5 grid grid-cols-2 gap-x-3 bg-purple-50 hover:shadow-lg transition duration-500\">\n",
       " <h2 class=\"text-2xl text-purple-800 name col-span-full border-b\">Jennifer Ross</h2>\n",
       " <p class=\"quote col-span-full px-5 py-5 text-center text-gray-500\">\n",
       "             \"Horizontal methodical hardware\"\n",
       "         </p>\n",
       " <div class=\"grid grid-cols-9\">\n",
       " <i class=\"bi bi-envelope-fill text-purple-800\"></i>\n",
       " <p class=\"email col-span-8\">jim72@yahoo.com</p>\n",
       " <i class=\"bi bi-telephone-fill text-purple-800\"></i>\n",
       " <p class=\"phone col-span-8\">6542922892</p>\n",
       " </div>\n",
       " <div class=\"address grid grid-cols-9\">\n",
       " <i class=\"bi bi-geo-fill text-purple-800\"></i>\n",
       " <p class=\"col-span-8\">\n",
       "                 2516 Jonathan Hills Suite 516 <br/>\n",
       "                 Brandonton, TN 35499\n",
       "             </p>\n",
       " </div>\n",
       " </div>,\n",
       " <div class=\"person border rounded px-3 py-5 grid grid-cols-2 gap-x-3 bg-purple-50 hover:shadow-lg transition duration-500\">\n",
       " <h2 class=\"text-2xl text-purple-800 name col-span-full border-b\">Jimmy Meyers</h2>\n",
       " <p class=\"quote col-span-full px-5 py-5 text-center text-gray-500\">\n",
       "             \"Assimilated 4thgeneration approach\"\n",
       "         </p>\n",
       " <div class=\"grid grid-cols-9\">\n",
       " <i class=\"bi bi-envelope-fill text-purple-800\"></i>\n",
       " <p class=\"email col-span-8\">sarah94@yahoo.com</p>\n",
       " <i class=\"bi bi-telephone-fill text-purple-800\"></i>\n",
       " <p class=\"phone col-span-8\">+1-460-915-3671x944</p>\n",
       " </div>\n",
       " <div class=\"address grid grid-cols-9\">\n",
       " <i class=\"bi bi-geo-fill text-purple-800\"></i>\n",
       " <p class=\"col-span-8\">\n",
       "                 0206 Marquez Village Apt. 809 <br/>\n",
       "                 West Sabrina, IN 81807\n",
       "             </p>\n",
       " </div>\n",
       " </div>,\n",
       " <div class=\"person border rounded px-3 py-5 grid grid-cols-2 gap-x-3 bg-purple-50 hover:shadow-lg transition duration-500\">\n",
       " <h2 class=\"text-2xl text-purple-800 name col-span-full border-b\">Ian Williams</h2>\n",
       " <p class=\"quote col-span-full px-5 py-5 text-center text-gray-500\">\n",
       "             \"Monitored executive productivity\"\n",
       "         </p>\n",
       " <div class=\"grid grid-cols-9\">\n",
       " <i class=\"bi bi-envelope-fill text-purple-800\"></i>\n",
       " <p class=\"email col-span-8\">aaronjones@fleming.com</p>\n",
       " <i class=\"bi bi-telephone-fill text-purple-800\"></i>\n",
       " <p class=\"phone col-span-8\">001-662-445-7898</p>\n",
       " </div>\n",
       " <div class=\"address grid grid-cols-9\">\n",
       " <i class=\"bi bi-geo-fill text-purple-800\"></i>\n",
       " <p class=\"col-span-8\">\n",
       "                 4206 Monroe Gardens Apt. 989 <br/>\n",
       "                 Rebeccahaven, IN 68213\n",
       "             </p>\n",
       " </div>\n",
       " </div>,\n",
       " <div class=\"person border rounded px-3 py-5 grid grid-cols-2 gap-x-3 bg-purple-50 hover:shadow-lg transition duration-500\">\n",
       " <h2 class=\"text-2xl text-purple-800 name col-span-full border-b\">David Cole</h2>\n",
       " <p class=\"quote col-span-full px-5 py-5 text-center text-gray-500\">\n",
       "             \"Cross-group zero tolerance Graphic Interface\"\n",
       "         </p>\n",
       " <div class=\"grid grid-cols-9\">\n",
       " <i class=\"bi bi-envelope-fill text-purple-800\"></i>\n",
       " <p class=\"email col-span-8\">crystal85@nguyen-gutierrez.com</p>\n",
       " <i class=\"bi bi-telephone-fill text-purple-800\"></i>\n",
       " <p class=\"phone col-span-8\">271-696-6270x5531</p>\n",
       " </div>\n",
       " <div class=\"address grid grid-cols-9\">\n",
       " <i class=\"bi bi-geo-fill text-purple-800\"></i>\n",
       " <p class=\"col-span-8\">\n",
       "                 2669 Barry Walks <br/>\n",
       "                 Jennychester, NH 48030\n",
       "             </p>\n",
       " </div>\n",
       " </div>,\n",
       " <div class=\"person border rounded px-3 py-5 grid grid-cols-2 gap-x-3 bg-purple-50 hover:shadow-lg transition duration-500\">\n",
       " <h2 class=\"text-2xl text-purple-800 name col-span-full border-b\">Carlos Miller</h2>\n",
       " <p class=\"quote col-span-full px-5 py-5 text-center text-gray-500\">\n",
       "             \"Managed executive time-frame\"\n",
       "         </p>\n",
       " <div class=\"grid grid-cols-9\">\n",
       " <i class=\"bi bi-envelope-fill text-purple-800\"></i>\n",
       " <p class=\"email col-span-8\">careyjames@evans-melton.com</p>\n",
       " <i class=\"bi bi-telephone-fill text-purple-800\"></i>\n",
       " <p class=\"phone col-span-8\">+1-981-102-3959x6180</p>\n",
       " </div>\n",
       " <div class=\"address grid grid-cols-9\">\n",
       " <i class=\"bi bi-geo-fill text-purple-800\"></i>\n",
       " <p class=\"col-span-8\">\n",
       "                 74020 Foster Lake Suite 187 <br/>\n",
       "                 Wuton, IA 75474\n",
       "             </p>\n",
       " </div>\n",
       " </div>,\n",
       " <div class=\"person border rounded px-3 py-5 grid grid-cols-2 gap-x-3 bg-purple-50 hover:shadow-lg transition duration-500\">\n",
       " <h2 class=\"text-2xl text-purple-800 name col-span-full border-b\">Adam Dunn</h2>\n",
       " <p class=\"quote col-span-full px-5 py-5 text-center text-gray-500\">\n",
       "             \"Face-to-face bandwidth-monitored synergy\"\n",
       "         </p>\n",
       " <div class=\"grid grid-cols-9\">\n",
       " <i class=\"bi bi-envelope-fill text-purple-800\"></i>\n",
       " <p class=\"email col-span-8\">cindyespinoza@gmail.com</p>\n",
       " <i class=\"bi bi-telephone-fill text-purple-800\"></i>\n",
       " <p class=\"phone col-span-8\">6551697726</p>\n",
       " </div>\n",
       " <div class=\"address grid grid-cols-9\">\n",
       " <i class=\"bi bi-geo-fill text-purple-800\"></i>\n",
       " <p class=\"col-span-8\">\n",
       "                 20589 Mitchell Hill <br/>\n",
       "                 West Gerald, OR 62265\n",
       "             </p>\n",
       " </div>\n",
       " </div>,\n",
       " <div class=\"person border rounded px-3 py-5 grid grid-cols-2 gap-x-3 bg-purple-50 hover:shadow-lg transition duration-500\">\n",
       " <h2 class=\"text-2xl text-purple-800 name col-span-full border-b\">Terry Hurst</h2>\n",
       " <p class=\"quote col-span-full px-5 py-5 text-center text-gray-500\">\n",
       "             \"Future-proofed tertiary knowledgebase\"\n",
       "         </p>\n",
       " <div class=\"grid grid-cols-9\">\n",
       " <i class=\"bi bi-envelope-fill text-purple-800\"></i>\n",
       " <p class=\"email col-span-8\">williamkrause@jacobs.com</p>\n",
       " <i class=\"bi bi-telephone-fill text-purple-800\"></i>\n",
       " <p class=\"phone col-span-8\">576-013-3854x45724</p>\n",
       " </div>\n",
       " <div class=\"address grid grid-cols-9\">\n",
       " <i class=\"bi bi-geo-fill text-purple-800\"></i>\n",
       " <p class=\"col-span-8\">\n",
       "                 53745 Young Crossroad Apt. 137 <br/>\n",
       "                 Thompsonshire, RI 11407\n",
       "             </p>\n",
       " </div>\n",
       " </div>,\n",
       " <div class=\"person border rounded px-3 py-5 grid grid-cols-2 gap-x-3 bg-purple-50 hover:shadow-lg transition duration-500\">\n",
       " <h2 class=\"text-2xl text-purple-800 name col-span-full border-b\">Angela Sparks</h2>\n",
       " <p class=\"quote col-span-full px-5 py-5 text-center text-gray-500\">\n",
       "             \"Public-key asynchronous alliance\"\n",
       "         </p>\n",
       " <div class=\"grid grid-cols-9\">\n",
       " <i class=\"bi bi-envelope-fill text-purple-800\"></i>\n",
       " <p class=\"email col-span-8\">joshua40@griffith.com</p>\n",
       " <i class=\"bi bi-telephone-fill text-purple-800\"></i>\n",
       " <p class=\"phone col-span-8\">748.604.2839x9975</p>\n",
       " </div>\n",
       " <div class=\"address grid grid-cols-9\">\n",
       " <i class=\"bi bi-geo-fill text-purple-800\"></i>\n",
       " <p class=\"col-span-8\">\n",
       "                 96700 Lauren Mountain Suite 792 <br/>\n",
       "                 Lake Yvonne, KY 96027\n",
       "             </p>\n",
       " </div>\n",
       " </div>]"
      ]
     },
     "execution_count": 27,
     "metadata": {},
     "output_type": "execute_result"
    }
   ],
   "source": [
    "people = soup.select('.person')\n",
    "people"
   ]
  },
  {
   "cell_type": "code",
   "execution_count": 31,
   "metadata": {},
   "outputs": [
    {
     "data": {
      "text/plain": [
       "<div class=\"person border rounded px-3 py-5 grid grid-cols-2 gap-x-3 bg-purple-50 hover:shadow-lg transition duration-500\">\n",
       "<h2 class=\"text-2xl text-purple-800 name col-span-full border-b\">Jason Gomez</h2>\n",
       "<p class=\"quote col-span-full px-5 py-5 text-center text-gray-500\">\n",
       "            \"Versatile contextually-based framework\"\n",
       "        </p>\n",
       "<div class=\"grid grid-cols-9\">\n",
       "<i class=\"bi bi-envelope-fill text-purple-800\"></i>\n",
       "<p class=\"email col-span-8\">derek94@yahoo.com</p>\n",
       "<i class=\"bi bi-telephone-fill text-purple-800\"></i>\n",
       "<p class=\"phone col-span-8\">+1-032-098-0412x8960</p>\n",
       "</div>\n",
       "<div class=\"address grid grid-cols-9\">\n",
       "<i class=\"bi bi-geo-fill text-purple-800\"></i>\n",
       "<p class=\"col-span-8\">\n",
       "                293 Martin Rapid Suite 236 <br/>\n",
       "                North Sarahchester, AR 26950\n",
       "            </p>\n",
       "</div>\n",
       "</div>"
      ]
     },
     "execution_count": 31,
     "metadata": {},
     "output_type": "execute_result"
    }
   ],
   "source": [
    "person = people[0]\n",
    "person"
   ]
  },
  {
   "cell_type": "code",
   "execution_count": 32,
   "metadata": {},
   "outputs": [
    {
     "data": {
      "text/plain": [
       "'Jason Gomez'"
      ]
     },
     "execution_count": 32,
     "metadata": {},
     "output_type": "execute_result"
    }
   ],
   "source": [
    "name = person.h2.text\n",
    "name"
   ]
  },
  {
   "cell_type": "code",
   "execution_count": 57,
   "metadata": {},
   "outputs": [
    {
     "data": {
      "text/plain": [
       "'Versatile contextually-based framework'"
      ]
     },
     "execution_count": 57,
     "metadata": {},
     "output_type": "execute_result"
    }
   ],
   "source": [
    "quote = person.select('.quote')[0].text.split()\n",
    "quote = ' '.join(quote)[1:-1]\n",
    "quote"
   ]
  },
  {
   "cell_type": "code",
   "execution_count": 60,
   "metadata": {},
   "outputs": [
    {
     "data": {
      "text/plain": [
       "'derek94@yahoo.com'"
      ]
     },
     "execution_count": 60,
     "metadata": {},
     "output_type": "execute_result"
    }
   ],
   "source": [
    "email = person('p')[1].text\n",
    "email"
   ]
  },
  {
   "cell_type": "code",
   "execution_count": 62,
   "metadata": {},
   "outputs": [
    {
     "data": {
      "text/plain": [
       "'+1-032-098-0412x8960'"
      ]
     },
     "execution_count": 62,
     "metadata": {},
     "output_type": "execute_result"
    }
   ],
   "source": [
    "phone = person.select('.phone')[0].text\n",
    "phone"
   ]
  },
  {
   "cell_type": "code",
   "execution_count": 69,
   "metadata": {},
   "outputs": [
    {
     "data": {
      "text/plain": [
       "'293 Martin Rapid Suite 236 North Sarahchester, AR 26950'"
      ]
     },
     "execution_count": 69,
     "metadata": {},
     "output_type": "execute_result"
    }
   ],
   "source": [
    "address = person('p')[-1].text.split()\n",
    "address = ' '.join(address)\n",
    "address"
   ]
  },
  {
   "cell_type": "code",
   "execution_count": 70,
   "metadata": {},
   "outputs": [],
   "source": [
    "def parse_person(person):\n",
    "    name = person.h2.text\n",
    "    quote = person.select('.quote')[0].text.split()\n",
    "    quote = ' '.join(quote)[1:-1] \n",
    "    email = person('p')[1].text\n",
    "    phone = person.select('.phone')[0].text\n",
    "    address = person('p')[-1].text.split()\n",
    "    address = ' '.join(address)\n",
    "\n",
    "    return {\n",
    "        'name': name, 'quote': quote, 'email': email,\n",
    "        'phone': phone,\n",
    "        'address': address\n",
    "    }"
   ]
  },
  {
   "cell_type": "code",
   "execution_count": 74,
   "metadata": {},
   "outputs": [
    {
     "data": {
      "text/html": [
       "<div>\n",
       "<style scoped>\n",
       "    .dataframe tbody tr th:only-of-type {\n",
       "        vertical-align: middle;\n",
       "    }\n",
       "\n",
       "    .dataframe tbody tr th {\n",
       "        vertical-align: top;\n",
       "    }\n",
       "\n",
       "    .dataframe thead th {\n",
       "        text-align: right;\n",
       "    }\n",
       "</style>\n",
       "<table border=\"1\" class=\"dataframe\">\n",
       "  <thead>\n",
       "    <tr style=\"text-align: right;\">\n",
       "      <th></th>\n",
       "      <th>name</th>\n",
       "      <th>quote</th>\n",
       "      <th>email</th>\n",
       "      <th>phone</th>\n",
       "      <th>address</th>\n",
       "    </tr>\n",
       "  </thead>\n",
       "  <tbody>\n",
       "    <tr>\n",
       "      <th>0</th>\n",
       "      <td>Jason Gomez</td>\n",
       "      <td>Versatile contextually-based framework</td>\n",
       "      <td>derek94@yahoo.com</td>\n",
       "      <td>+1-032-098-0412x8960</td>\n",
       "      <td>293 Martin Rapid Suite 236 North Sarahchester,...</td>\n",
       "    </tr>\n",
       "    <tr>\n",
       "      <th>1</th>\n",
       "      <td>Cathy Choi</td>\n",
       "      <td>Customizable uniform application</td>\n",
       "      <td>amandamartin@hall.com</td>\n",
       "      <td>+1-042-632-0547x9986</td>\n",
       "      <td>4216 Thomas Grove Apt. 340 Paulahaven, ND 26102</td>\n",
       "    </tr>\n",
       "    <tr>\n",
       "      <th>2</th>\n",
       "      <td>Jennifer Ross</td>\n",
       "      <td>Horizontal methodical hardware</td>\n",
       "      <td>jim72@yahoo.com</td>\n",
       "      <td>6542922892</td>\n",
       "      <td>2516 Jonathan Hills Suite 516 Brandonton, TN 3...</td>\n",
       "    </tr>\n",
       "    <tr>\n",
       "      <th>3</th>\n",
       "      <td>Jimmy Meyers</td>\n",
       "      <td>Assimilated 4thgeneration approach</td>\n",
       "      <td>sarah94@yahoo.com</td>\n",
       "      <td>+1-460-915-3671x944</td>\n",
       "      <td>0206 Marquez Village Apt. 809 West Sabrina, IN...</td>\n",
       "    </tr>\n",
       "    <tr>\n",
       "      <th>4</th>\n",
       "      <td>Ian Williams</td>\n",
       "      <td>Monitored executive productivity</td>\n",
       "      <td>aaronjones@fleming.com</td>\n",
       "      <td>001-662-445-7898</td>\n",
       "      <td>4206 Monroe Gardens Apt. 989 Rebeccahaven, IN ...</td>\n",
       "    </tr>\n",
       "    <tr>\n",
       "      <th>5</th>\n",
       "      <td>David Cole</td>\n",
       "      <td>Cross-group zero tolerance Graphic Interface</td>\n",
       "      <td>crystal85@nguyen-gutierrez.com</td>\n",
       "      <td>271-696-6270x5531</td>\n",
       "      <td>2669 Barry Walks Jennychester, NH 48030</td>\n",
       "    </tr>\n",
       "    <tr>\n",
       "      <th>6</th>\n",
       "      <td>Carlos Miller</td>\n",
       "      <td>Managed executive time-frame</td>\n",
       "      <td>careyjames@evans-melton.com</td>\n",
       "      <td>+1-981-102-3959x6180</td>\n",
       "      <td>74020 Foster Lake Suite 187 Wuton, IA 75474</td>\n",
       "    </tr>\n",
       "    <tr>\n",
       "      <th>7</th>\n",
       "      <td>Adam Dunn</td>\n",
       "      <td>Face-to-face bandwidth-monitored synergy</td>\n",
       "      <td>cindyespinoza@gmail.com</td>\n",
       "      <td>6551697726</td>\n",
       "      <td>20589 Mitchell Hill West Gerald, OR 62265</td>\n",
       "    </tr>\n",
       "    <tr>\n",
       "      <th>8</th>\n",
       "      <td>Terry Hurst</td>\n",
       "      <td>Future-proofed tertiary knowledgebase</td>\n",
       "      <td>williamkrause@jacobs.com</td>\n",
       "      <td>576-013-3854x45724</td>\n",
       "      <td>53745 Young Crossroad Apt. 137 Thompsonshire, ...</td>\n",
       "    </tr>\n",
       "    <tr>\n",
       "      <th>9</th>\n",
       "      <td>Angela Sparks</td>\n",
       "      <td>Public-key asynchronous alliance</td>\n",
       "      <td>joshua40@griffith.com</td>\n",
       "      <td>748.604.2839x9975</td>\n",
       "      <td>96700 Lauren Mountain Suite 792 Lake Yvonne, K...</td>\n",
       "    </tr>\n",
       "  </tbody>\n",
       "</table>\n",
       "</div>"
      ],
      "text/plain": [
       "            name                                         quote  \\\n",
       "0    Jason Gomez        Versatile contextually-based framework   \n",
       "1     Cathy Choi              Customizable uniform application   \n",
       "2  Jennifer Ross                Horizontal methodical hardware   \n",
       "3   Jimmy Meyers            Assimilated 4thgeneration approach   \n",
       "4   Ian Williams              Monitored executive productivity   \n",
       "5     David Cole  Cross-group zero tolerance Graphic Interface   \n",
       "6  Carlos Miller                  Managed executive time-frame   \n",
       "7      Adam Dunn      Face-to-face bandwidth-monitored synergy   \n",
       "8    Terry Hurst         Future-proofed tertiary knowledgebase   \n",
       "9  Angela Sparks              Public-key asynchronous alliance   \n",
       "\n",
       "                            email                 phone  \\\n",
       "0               derek94@yahoo.com  +1-032-098-0412x8960   \n",
       "1           amandamartin@hall.com  +1-042-632-0547x9986   \n",
       "2                 jim72@yahoo.com            6542922892   \n",
       "3               sarah94@yahoo.com   +1-460-915-3671x944   \n",
       "4          aaronjones@fleming.com      001-662-445-7898   \n",
       "5  crystal85@nguyen-gutierrez.com     271-696-6270x5531   \n",
       "6     careyjames@evans-melton.com  +1-981-102-3959x6180   \n",
       "7         cindyespinoza@gmail.com            6551697726   \n",
       "8        williamkrause@jacobs.com    576-013-3854x45724   \n",
       "9           joshua40@griffith.com     748.604.2839x9975   \n",
       "\n",
       "                                             address  \n",
       "0  293 Martin Rapid Suite 236 North Sarahchester,...  \n",
       "1    4216 Thomas Grove Apt. 340 Paulahaven, ND 26102  \n",
       "2  2516 Jonathan Hills Suite 516 Brandonton, TN 3...  \n",
       "3  0206 Marquez Village Apt. 809 West Sabrina, IN...  \n",
       "4  4206 Monroe Gardens Apt. 989 Rebeccahaven, IN ...  \n",
       "5            2669 Barry Walks Jennychester, NH 48030  \n",
       "6        74020 Foster Lake Suite 187 Wuton, IA 75474  \n",
       "7          20589 Mitchell Hill West Gerald, OR 62265  \n",
       "8  53745 Young Crossroad Apt. 137 Thompsonshire, ...  \n",
       "9  96700 Lauren Mountain Suite 792 Lake Yvonne, K...  "
      ]
     },
     "execution_count": 74,
     "metadata": {},
     "output_type": "execute_result"
    }
   ],
   "source": [
    "# loop through all the persons\n",
    "people = pd.DataFrame([parse_person(person) for person in people])\n",
    "people"
   ]
  },
  {
   "cell_type": "markdown",
   "metadata": {},
   "source": [
    "## Web Scraping Etiquitte\n",
    "\n",
    "- respect the `robots.txt` file if present\n",
    "\n",
    "    * [Wikipedia: Robots exclusion standard](https://en.wikipedia.org/wiki/Robots_exclusion_standard)\n",
    "    * [robotstxt.org](http://www.robotstxt.org/robotstxt.html)\n",
    "    * [codeup's robots.txt](https://codeup.com/robots.txt)\n",
    "\n",
    "- use a descriptive user agent\n",
    "\n",
    "    ```python\n",
    "    requests.get('http://example.com', headers={'user-agent': 'codeup data science germain cohort'})\n",
    "    ```"
   ]
  },
  {
   "cell_type": "markdown",
   "metadata": {},
   "source": [
    "## Exercises\n",
    "\n",
    "#### Codeup Blog Articles\n",
    "\n",
    "Visit Codeup's Blog(http://codeup.com/blog/) and record the urls for at least 5 distinct blog posts. For each post, you should scrape at least the post's title and content.\n",
    "\n",
    "Encapsulate your work in a function named get_blog_articles that will return a list of dictionaries, with each dictionary representing one article. The shape of each dictionary should look like this:"
   ]
  },
  {
   "cell_type": "code",
   "execution_count": null,
   "metadata": {},
   "outputs": [],
   "source": [
    "response = requests.get('https://codeup.com/blog/', headers={'user-agent': 'Codeup DS Hopper'})\n",
    "soup = BeautifulSoup(response.text)"
   ]
  },
  {
   "cell_type": "code",
   "execution_count": null,
   "metadata": {},
   "outputs": [],
   "source": []
  },
  {
   "cell_type": "code",
   "execution_count": null,
   "metadata": {},
   "outputs": [],
   "source": []
  },
  {
   "cell_type": "code",
   "execution_count": null,
   "metadata": {},
   "outputs": [],
   "source": []
  },
  {
   "cell_type": "code",
   "execution_count": null,
   "metadata": {},
   "outputs": [],
   "source": []
  },
  {
   "cell_type": "code",
   "execution_count": null,
   "metadata": {},
   "outputs": [],
   "source": []
  },
  {
   "cell_type": "code",
   "execution_count": null,
   "metadata": {},
   "outputs": [],
   "source": [
    "link = 'https://inshorts.com/en/read/sports'\n",
    "# use function to make the request\n",
    "soup = get_soup(link)\n",
    "# parse data under class 'news-card' and assign to a variable\n",
    "articles = soup.select('.news-card')\n",
    "# assign data for first article to a variable\n",
    "article = articles[1]\n",
    "# parse text under attributes listed to get title\n",
    "title = article.find(attrs={\"itemprop\": \"headline\"}).text\n",
    "# parse text under attributes listed to get content\n",
    "content = article.find(attrs={\"itemprop\": \"articleBody\"}).text"
   ]
  },
  {
   "cell_type": "code",
   "execution_count": null,
   "metadata": {},
   "outputs": [],
   "source": []
  }
 ],
 "metadata": {
  "interpreter": {
   "hash": "38cca0c38332a56087b24af0bc80247f4fced29cb4f7f437d91dc159adec9c4e"
  },
  "kernelspec": {
   "display_name": "Python 3",
   "language": "python",
   "name": "python3"
  },
  "language_info": {
   "codemirror_mode": {
    "name": "ipython",
    "version": 3
   },
   "file_extension": ".py",
   "mimetype": "text/x-python",
   "name": "python",
   "nbconvert_exporter": "python",
   "pygments_lexer": "ipython3",
   "version": "3.8.8"
  }
 },
 "nbformat": 4,
 "nbformat_minor": 4
}
